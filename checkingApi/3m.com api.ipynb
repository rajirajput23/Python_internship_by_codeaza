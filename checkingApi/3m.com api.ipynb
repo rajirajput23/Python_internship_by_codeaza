{
 "cells": [
  {
   "cell_type": "code",
   "execution_count": 1,
   "id": "409a854d",
   "metadata": {},
   "outputs": [],
   "source": [
    "import requests\n"
   ]
  },
  {
   "cell_type": "code",
   "execution_count": 2,
   "id": "42711f4b",
   "metadata": {},
   "outputs": [],
   "source": [
    "url = \"https://api.bazaarvoice.com/data/statistics.json?apiversion=5.4&passkey=ormfnaprafumxqk95bptphk6m&stats=Reviews&filter=ContentLocale:en_US&filter=ProductId:b40065201|3m-country-catalog|fuzeexperience|en_us,b40071254|3m-country-catalog|fuzeexperience|en_us,b40066301|3m-country-catalog|fuzeexperience|en_us,b40064887|3m-country-catalog|fuzeexperience|en_us,b40064986|3m-country-catalog|fuzeexperience|en_us,b40071216|3m-country-catalog|fuzeexperience|en_us,b40065310|3m-country-catalog|fuzeexperience|en_us,b40064987|3m-country-catalog|fuzeexperience|en_us,b40064677|3m-country-catalog|fuzeexperience|en_us,b40064879|3m-country-catalog|fuzeexperience|en_us,b40071656|3m-country-catalog|fuzeexperience|en_us,b40071624|3m-country-catalog|fuzeexperience|en_us,b40071650|3m-country-catalog|fuzeexperience|en_us,b40071928|3m-country-catalog|fuzeexperience|en_us,b40068733|3m-country-catalog|fuzeexperience|en_us,b40065050|3m-country-catalog|fuzeexperience|en_us,b40066087|3m-country-catalog|fuzeexperience|en_us,b40071422|3m-country-catalog|fuzeexperience|en_us,b40071643|3m-country-catalog|fuzeexperience|en_us,b40064827|3m-country-catalog|fuzeexperience|en_us,b40068714|3m-country-catalog|fuzeexperience|en_us,b30022591|3m-country-catalog|fuzeexperience|en_us,b10013703|3m-country-catalog|fuzeexperience|en_us,b10009585|3m-country-catalog|fuzeexperience|en_us,70009132088|3m-country-catalog|fuzeexperience|en_us,70009132070|3m-country-catalog|fuzeexperience|en_us,70009132096|3m-country-catalog|fuzeexperience|en_us,70009132062|3m-country-catalog|fuzeexperience|en_us,70009132054|3m-country-catalog|fuzeexperience|en_us,b00046193|3m-country-catalog|fuzeexperience|en_us,b00046164|3m-country-catalog|fuzeexperience|en_us,b10013704|3m-country-catalog|fuzeexperience|en_us,b10013553|3m-country-catalog|fuzeexperience|en_us,b00005929|3m-country-catalog|fuzeexperience|en_us,b40071161|3m-country-catalog|fuzeexperience|en_us,b40065389|3m-country-catalog|fuzeexperience|en_us,b40066581|3m-country-catalog|fuzeexperience|en_us\"\n",
    "\n"
   ]
  },
  {
   "cell_type": "code",
   "execution_count": 3,
   "id": "ac997326",
   "metadata": {},
   "outputs": [],
   "source": [
    "payload = {}\n",
    "\n"
   ]
  },
  {
   "cell_type": "code",
   "execution_count": 5,
   "id": "894b955a",
   "metadata": {},
   "outputs": [],
   "source": [
    "headers = {\n",
    "  'Accept': '*/*',\n",
    "  'Accept-Language': 'en-US,en;q=0.9',\n",
    "  'Connection': 'keep-alive',\n",
    "  'Origin': 'https://www.3m.com',\n",
    "  'Referer': 'https://www.3m.com/',\n",
    "  'Sec-Fetch-Dest': 'empty',\n",
    "  'Sec-Fetch-Mode': 'cors',\n",
    "  'Sec-Fetch-Site': 'cross-site',\n",
    "  'User-Agent': 'Mozilla/5.0 (Windows NT 10.0; Win64; x64) AppleWebKit/537.36 (KHTML, like Gecko) Chrome/114.0.0.0 Safari/537.36',\n",
    "  'sec-ch-ua': '\"Not.A/Brand\";v=\"8\", \"Chromium\";v=\"114\", \"Google Chrome\";v=\"114\"',\n",
    "  'sec-ch-ua-mobile': '?0',\n",
    "  'sec-ch-ua-platform': '\"Windows\"'\n",
    "}\n",
    "\n"
   ]
  },
  {
   "cell_type": "code",
   "execution_count": 6,
   "id": "4511c7ae",
   "metadata": {},
   "outputs": [],
   "source": [
    "response = requests.request(\"GET\", url, headers=headers, data=payload)\n",
    "\n"
   ]
  },
  {
   "cell_type": "code",
   "execution_count": 7,
   "id": "0588da4b",
   "metadata": {},
   "outputs": [
    {
     "name": "stdout",
     "output_type": "stream",
     "text": [
      "{\"Limit\":37,\"Offset\":0,\"TotalResults\":37,\"Locale\":\"en_US\",\"Results\":[{\"ProductStatistics\":{\"ProductId\":\"B10013703|3m-country-catalog|FUZEexperience|en_US\",\"NativeReviewStatistics\":{},\"ReviewStatistics\":{\"AverageOverallRating\":null,\"TotalReviewCount\":0,\"OverallRatingRange\":5},\"QAStatistics\":{}}},{\"ProductStatistics\":{\"ProductId\":\"B40065310|3m-country-catalog|FUZEexperience|en_US\",\"NativeReviewStatistics\":{},\"ReviewStatistics\":{\"AverageOverallRating\":5.0,\"TotalReviewCount\":2,\"OverallRatingRange\":5},\"QAStatistics\":{}}},{\"ProductStatistics\":{\"ProductId\":\"B10013553|3m-country-catalog|FUZEexperience|en_US\",\"NativeReviewStatistics\":{},\"ReviewStatistics\":{\"AverageOverallRating\":null,\"TotalReviewCount\":0,\"OverallRatingRange\":5},\"QAStatistics\":{}}},{\"ProductStatistics\":{\"ProductId\":\"70009132070|3m-country-catalog|FUZEexperience|en_US\",\"NativeReviewStatistics\":{},\"ReviewStatistics\":{\"AverageOverallRating\":null,\"TotalReviewCount\":0,\"OverallRatingRange\":5},\"QAStatistics\":{}}},{\"ProductStatistics\":{\"ProductId\":\"B40066301|3m-country-catalog|FUZEexperience|en_US\",\"NativeReviewStatistics\":{},\"ReviewStatistics\":{\"AverageOverallRating\":null,\"TotalReviewCount\":0,\"OverallRatingRange\":5},\"QAStatistics\":{}}},{\"ProductStatistics\":{\"ProductId\":\"B40071422|3m-country-catalog|FUZEexperience|en_US\",\"NativeReviewStatistics\":{},\"ReviewStatistics\":{\"AverageOverallRating\":null,\"TotalReviewCount\":0,\"OverallRatingRange\":5},\"QAStatistics\":{}}},{\"ProductStatistics\":{\"ProductId\":\"B10013704|3m-country-catalog|FUZEexperience|en_US\",\"NativeReviewStatistics\":{},\"ReviewStatistics\":{\"AverageOverallRating\":null,\"TotalReviewCount\":0,\"OverallRatingRange\":5},\"QAStatistics\":{}}},{\"ProductStatistics\":{\"ProductId\":\"B40071928|3m-country-catalog|FUZEexperience|en_US\",\"NativeReviewStatistics\":{},\"ReviewStatistics\":{\"AverageOverallRating\":null,\"TotalReviewCount\":0,\"OverallRatingRange\":5},\"QAStatistics\":{}}},{\"ProductStatistics\":{\"ProductId\":\"B40066087|3m-country-catalog|FUZEexperience|en_US\",\"NativeReviewStatistics\":{},\"ReviewStatistics\":{\"AverageOverallRating\":null,\"TotalReviewCount\":0,\"OverallRatingRange\":5},\"QAStatistics\":{}}},{\"ProductStatistics\":{\"ProductId\":\"B40066581|3m-country-catalog|FUZEexperience|en_US\",\"NativeReviewStatistics\":{},\"ReviewStatistics\":{\"AverageOverallRating\":null,\"TotalReviewCount\":0,\"OverallRatingRange\":5},\"QAStatistics\":{}}},{\"ProductStatistics\":{\"ProductId\":\"B00046164|3m-country-catalog|FUZEexperience|en_US\",\"NativeReviewStatistics\":{},\"ReviewStatistics\":{\"AverageOverallRating\":null,\"TotalReviewCount\":0,\"OverallRatingRange\":5},\"QAStatistics\":{}}},{\"ProductStatistics\":{\"ProductId\":\"B40071656|3m-country-catalog|FUZEexperience|en_US\",\"NativeReviewStatistics\":{},\"ReviewStatistics\":{\"AverageOverallRating\":null,\"TotalReviewCount\":0,\"OverallRatingRange\":5},\"QAStatistics\":{}}},{\"ProductStatistics\":{\"ProductId\":\"B40065389|3m-country-catalog|FUZEexperience|en_US\",\"NativeReviewStatistics\":{},\"ReviewStatistics\":{\"AverageOverallRating\":null,\"TotalReviewCount\":0,\"OverallRatingRange\":5},\"QAStatistics\":{}}},{\"ProductStatistics\":{\"ProductId\":\"B40068714|3m-country-catalog|FUZEexperience|en_US\",\"NativeReviewStatistics\":{},\"ReviewStatistics\":{\"AverageOverallRating\":null,\"TotalReviewCount\":0,\"OverallRatingRange\":5},\"QAStatistics\":{}}},{\"ProductStatistics\":{\"ProductId\":\"B40071161|3m-country-catalog|FUZEexperience|en_US\",\"NativeReviewStatistics\":{},\"ReviewStatistics\":{\"AverageOverallRating\":null,\"TotalReviewCount\":0,\"OverallRatingRange\":5},\"QAStatistics\":{}}},{\"ProductStatistics\":{\"ProductId\":\"B40068733|3m-country-catalog|FUZEexperience|en_US\",\"NativeReviewStatistics\":{},\"ReviewStatistics\":{\"AverageOverallRating\":null,\"TotalReviewCount\":0,\"OverallRatingRange\":5},\"QAStatistics\":{}}},{\"ProductStatistics\":{\"ProductId\":\"70009132054|3m-country-catalog|FUZEexperience|en_US\",\"NativeReviewStatistics\":{},\"ReviewStatistics\":{\"AverageOverallRating\":null,\"TotalReviewCount\":0,\"OverallRatingRange\":5},\"QAStatistics\":{}}},{\"ProductStatistics\":{\"ProductId\":\"B40064827|3m-country-catalog|FUZEexperience|en_US\",\"NativeReviewStatistics\":{},\"ReviewStatistics\":{\"AverageOverallRating\":null,\"TotalReviewCount\":0,\"OverallRatingRange\":5},\"QAStatistics\":{}}},{\"ProductStatistics\":{\"ProductId\":\"B40071650|3m-country-catalog|FUZEexperience|en_US\",\"NativeReviewStatistics\":{},\"ReviewStatistics\":{\"AverageOverallRating\":null,\"TotalReviewCount\":0,\"OverallRatingRange\":5},\"QAStatistics\":{}}},{\"ProductStatistics\":{\"ProductId\":\"B40065201|3m-country-catalog|FUZEexperience|en_US\",\"NativeReviewStatistics\":{},\"ReviewStatistics\":{\"AverageOverallRating\":null,\"TotalReviewCount\":0,\"OverallRatingRange\":5},\"QAStatistics\":{}}},{\"ProductStatistics\":{\"ProductId\":\"B00005929|3m-country-catalog|FUZEexperience|en_US\",\"NativeReviewStatistics\":{},\"ReviewStatistics\":{\"AverageOverallRating\":null,\"TotalReviewCount\":0,\"OverallRatingRange\":5},\"QAStatistics\":{}}},{\"ProductStatistics\":{\"ProductId\":\"B40064987|3m-country-catalog|FUZEexperience|en_US\",\"NativeReviewStatistics\":{},\"ReviewStatistics\":{\"AverageOverallRating\":null,\"TotalReviewCount\":0,\"OverallRatingRange\":5},\"QAStatistics\":{}}},{\"ProductStatistics\":{\"ProductId\":\"B40065050|3m-country-catalog|FUZEexperience|en_US\",\"NativeReviewStatistics\":{},\"ReviewStatistics\":{\"AverageOverallRating\":null,\"TotalReviewCount\":0,\"OverallRatingRange\":5},\"QAStatistics\":{}}},{\"ProductStatistics\":{\"ProductId\":\"B40064879|3m-country-catalog|FUZEexperience|en_US\",\"NativeReviewStatistics\":{},\"ReviewStatistics\":{\"AverageOverallRating\":5.0,\"TotalReviewCount\":1,\"OverallRatingRange\":5},\"QAStatistics\":{}}},{\"ProductStatistics\":{\"ProductId\":\"B40071643|3m-country-catalog|FUZEexperience|en_US\",\"NativeReviewStatistics\":{},\"ReviewStatistics\":{\"AverageOverallRating\":null,\"TotalReviewCount\":0,\"OverallRatingRange\":5},\"QAStatistics\":{}}},{\"ProductStatistics\":{\"ProductId\":\"B40064986|3m-country-catalog|FUZEexperience|en_US\",\"NativeReviewStatistics\":{},\"ReviewStatistics\":{\"AverageOverallRating\":null,\"TotalReviewCount\":0,\"OverallRatingRange\":5},\"QAStatistics\":{}}},{\"ProductStatistics\":{\"ProductId\":\"70009132088|3m-country-catalog|FUZEexperience|en_US\",\"NativeReviewStatistics\":{},\"ReviewStatistics\":{\"AverageOverallRating\":null,\"TotalReviewCount\":0,\"OverallRatingRange\":5},\"QAStatistics\":{}}},{\"ProductStatistics\":{\"ProductId\":\"B40071624|3m-country-catalog|FUZEexperience|en_US\",\"NativeReviewStatistics\":{},\"ReviewStatistics\":{\"AverageOverallRating\":null,\"TotalReviewCount\":0,\"OverallRatingRange\":5},\"QAStatistics\":{}}},{\"ProductStatistics\":{\"ProductId\":\"B40071216|3m-country-catalog|FUZEexperience|en_US\",\"NativeReviewStatistics\":{},\"ReviewStatistics\":{\"AverageOverallRating\":null,\"TotalReviewCount\":0,\"OverallRatingRange\":5},\"QAStatistics\":{}}},{\"ProductStatistics\":{\"ProductId\":\"B40071254|3m-country-catalog|FUZEexperience|en_US\",\"NativeReviewStatistics\":{},\"ReviewStatistics\":{\"AverageOverallRating\":null,\"TotalReviewCount\":0,\"OverallRatingRange\":5},\"QAStatistics\":{}}},{\"ProductStatistics\":{\"ProductId\":\"B40064887|3m-country-catalog|FUZEexperience|en_US\",\"NativeReviewStatistics\":{},\"ReviewStatistics\":{\"AverageOverallRating\":null,\"TotalReviewCount\":0,\"OverallRatingRange\":5},\"QAStatistics\":{}}},{\"ProductStatistics\":{\"ProductId\":\"70009132062|3m-country-catalog|FUZEexperience|en_US\",\"NativeReviewStatistics\":{},\"ReviewStatistics\":{\"AverageOverallRating\":null,\"TotalReviewCount\":0,\"OverallRatingRange\":5},\"QAStatistics\":{}}},{\"ProductStatistics\":{\"ProductId\":\"B40064677|3m-country-catalog|FUZEexperience|en_US\",\"NativeReviewStatistics\":{},\"ReviewStatistics\":{\"AverageOverallRating\":null,\"TotalReviewCount\":0,\"OverallRatingRange\":5},\"QAStatistics\":{}}},{\"ProductStatistics\":{\"ProductId\":\"B10009585|3m-country-catalog|FUZEexperience|en_US\",\"NativeReviewStatistics\":{},\"ReviewStatistics\":{\"AverageOverallRating\":null,\"TotalReviewCount\":0,\"OverallRatingRange\":5},\"QAStatistics\":{}}},{\"ProductStatistics\":{\"ProductId\":\"B30022591|3m-country-catalog|FUZEexperience|en_US\",\"NativeReviewStatistics\":{},\"ReviewStatistics\":{\"AverageOverallRating\":null,\"TotalReviewCount\":0,\"OverallRatingRange\":5},\"QAStatistics\":{}}},{\"ProductStatistics\":{\"ProductId\":\"70009132096|3m-country-catalog|FUZEexperience|en_US\",\"NativeReviewStatistics\":{},\"ReviewStatistics\":{\"AverageOverallRating\":null,\"TotalReviewCount\":0,\"OverallRatingRange\":5},\"QAStatistics\":{}}},{\"ProductStatistics\":{\"ProductId\":\"B00046193|3m-country-catalog|FUZEexperience|en_US\",\"NativeReviewStatistics\":{},\"ReviewStatistics\":{\"AverageOverallRating\":null,\"TotalReviewCount\":0,\"OverallRatingRange\":5},\"QAStatistics\":{}}}],\"Includes\":{},\"HasErrors\":false,\"Errors\":[]}\n"
     ]
    }
   ],
   "source": [
    "print(response.text)"
   ]
  },
  {
   "cell_type": "code",
   "execution_count": 8,
   "id": "7a4d70c1",
   "metadata": {},
   "outputs": [
    {
     "data": {
      "text/plain": [
       "{'Limit': 37,\n",
       " 'Offset': 0,\n",
       " 'TotalResults': 37,\n",
       " 'Locale': 'en_US',\n",
       " 'Results': [{'ProductStatistics': {'ProductId': 'B10013703|3m-country-catalog|FUZEexperience|en_US',\n",
       "    'NativeReviewStatistics': {},\n",
       "    'ReviewStatistics': {'AverageOverallRating': None,\n",
       "     'TotalReviewCount': 0,\n",
       "     'OverallRatingRange': 5},\n",
       "    'QAStatistics': {}}},\n",
       "  {'ProductStatistics': {'ProductId': 'B40065310|3m-country-catalog|FUZEexperience|en_US',\n",
       "    'NativeReviewStatistics': {},\n",
       "    'ReviewStatistics': {'AverageOverallRating': 5.0,\n",
       "     'TotalReviewCount': 2,\n",
       "     'OverallRatingRange': 5},\n",
       "    'QAStatistics': {}}},\n",
       "  {'ProductStatistics': {'ProductId': 'B10013553|3m-country-catalog|FUZEexperience|en_US',\n",
       "    'NativeReviewStatistics': {},\n",
       "    'ReviewStatistics': {'AverageOverallRating': None,\n",
       "     'TotalReviewCount': 0,\n",
       "     'OverallRatingRange': 5},\n",
       "    'QAStatistics': {}}},\n",
       "  {'ProductStatistics': {'ProductId': '70009132070|3m-country-catalog|FUZEexperience|en_US',\n",
       "    'NativeReviewStatistics': {},\n",
       "    'ReviewStatistics': {'AverageOverallRating': None,\n",
       "     'TotalReviewCount': 0,\n",
       "     'OverallRatingRange': 5},\n",
       "    'QAStatistics': {}}},\n",
       "  {'ProductStatistics': {'ProductId': 'B40066301|3m-country-catalog|FUZEexperience|en_US',\n",
       "    'NativeReviewStatistics': {},\n",
       "    'ReviewStatistics': {'AverageOverallRating': None,\n",
       "     'TotalReviewCount': 0,\n",
       "     'OverallRatingRange': 5},\n",
       "    'QAStatistics': {}}},\n",
       "  {'ProductStatistics': {'ProductId': 'B40071422|3m-country-catalog|FUZEexperience|en_US',\n",
       "    'NativeReviewStatistics': {},\n",
       "    'ReviewStatistics': {'AverageOverallRating': None,\n",
       "     'TotalReviewCount': 0,\n",
       "     'OverallRatingRange': 5},\n",
       "    'QAStatistics': {}}},\n",
       "  {'ProductStatistics': {'ProductId': 'B10013704|3m-country-catalog|FUZEexperience|en_US',\n",
       "    'NativeReviewStatistics': {},\n",
       "    'ReviewStatistics': {'AverageOverallRating': None,\n",
       "     'TotalReviewCount': 0,\n",
       "     'OverallRatingRange': 5},\n",
       "    'QAStatistics': {}}},\n",
       "  {'ProductStatistics': {'ProductId': 'B40071928|3m-country-catalog|FUZEexperience|en_US',\n",
       "    'NativeReviewStatistics': {},\n",
       "    'ReviewStatistics': {'AverageOverallRating': None,\n",
       "     'TotalReviewCount': 0,\n",
       "     'OverallRatingRange': 5},\n",
       "    'QAStatistics': {}}},\n",
       "  {'ProductStatistics': {'ProductId': 'B40066087|3m-country-catalog|FUZEexperience|en_US',\n",
       "    'NativeReviewStatistics': {},\n",
       "    'ReviewStatistics': {'AverageOverallRating': None,\n",
       "     'TotalReviewCount': 0,\n",
       "     'OverallRatingRange': 5},\n",
       "    'QAStatistics': {}}},\n",
       "  {'ProductStatistics': {'ProductId': 'B40066581|3m-country-catalog|FUZEexperience|en_US',\n",
       "    'NativeReviewStatistics': {},\n",
       "    'ReviewStatistics': {'AverageOverallRating': None,\n",
       "     'TotalReviewCount': 0,\n",
       "     'OverallRatingRange': 5},\n",
       "    'QAStatistics': {}}},\n",
       "  {'ProductStatistics': {'ProductId': 'B00046164|3m-country-catalog|FUZEexperience|en_US',\n",
       "    'NativeReviewStatistics': {},\n",
       "    'ReviewStatistics': {'AverageOverallRating': None,\n",
       "     'TotalReviewCount': 0,\n",
       "     'OverallRatingRange': 5},\n",
       "    'QAStatistics': {}}},\n",
       "  {'ProductStatistics': {'ProductId': 'B40071656|3m-country-catalog|FUZEexperience|en_US',\n",
       "    'NativeReviewStatistics': {},\n",
       "    'ReviewStatistics': {'AverageOverallRating': None,\n",
       "     'TotalReviewCount': 0,\n",
       "     'OverallRatingRange': 5},\n",
       "    'QAStatistics': {}}},\n",
       "  {'ProductStatistics': {'ProductId': 'B40065389|3m-country-catalog|FUZEexperience|en_US',\n",
       "    'NativeReviewStatistics': {},\n",
       "    'ReviewStatistics': {'AverageOverallRating': None,\n",
       "     'TotalReviewCount': 0,\n",
       "     'OverallRatingRange': 5},\n",
       "    'QAStatistics': {}}},\n",
       "  {'ProductStatistics': {'ProductId': 'B40068714|3m-country-catalog|FUZEexperience|en_US',\n",
       "    'NativeReviewStatistics': {},\n",
       "    'ReviewStatistics': {'AverageOverallRating': None,\n",
       "     'TotalReviewCount': 0,\n",
       "     'OverallRatingRange': 5},\n",
       "    'QAStatistics': {}}},\n",
       "  {'ProductStatistics': {'ProductId': 'B40071161|3m-country-catalog|FUZEexperience|en_US',\n",
       "    'NativeReviewStatistics': {},\n",
       "    'ReviewStatistics': {'AverageOverallRating': None,\n",
       "     'TotalReviewCount': 0,\n",
       "     'OverallRatingRange': 5},\n",
       "    'QAStatistics': {}}},\n",
       "  {'ProductStatistics': {'ProductId': 'B40068733|3m-country-catalog|FUZEexperience|en_US',\n",
       "    'NativeReviewStatistics': {},\n",
       "    'ReviewStatistics': {'AverageOverallRating': None,\n",
       "     'TotalReviewCount': 0,\n",
       "     'OverallRatingRange': 5},\n",
       "    'QAStatistics': {}}},\n",
       "  {'ProductStatistics': {'ProductId': '70009132054|3m-country-catalog|FUZEexperience|en_US',\n",
       "    'NativeReviewStatistics': {},\n",
       "    'ReviewStatistics': {'AverageOverallRating': None,\n",
       "     'TotalReviewCount': 0,\n",
       "     'OverallRatingRange': 5},\n",
       "    'QAStatistics': {}}},\n",
       "  {'ProductStatistics': {'ProductId': 'B40064827|3m-country-catalog|FUZEexperience|en_US',\n",
       "    'NativeReviewStatistics': {},\n",
       "    'ReviewStatistics': {'AverageOverallRating': None,\n",
       "     'TotalReviewCount': 0,\n",
       "     'OverallRatingRange': 5},\n",
       "    'QAStatistics': {}}},\n",
       "  {'ProductStatistics': {'ProductId': 'B40071650|3m-country-catalog|FUZEexperience|en_US',\n",
       "    'NativeReviewStatistics': {},\n",
       "    'ReviewStatistics': {'AverageOverallRating': None,\n",
       "     'TotalReviewCount': 0,\n",
       "     'OverallRatingRange': 5},\n",
       "    'QAStatistics': {}}},\n",
       "  {'ProductStatistics': {'ProductId': 'B40065201|3m-country-catalog|FUZEexperience|en_US',\n",
       "    'NativeReviewStatistics': {},\n",
       "    'ReviewStatistics': {'AverageOverallRating': None,\n",
       "     'TotalReviewCount': 0,\n",
       "     'OverallRatingRange': 5},\n",
       "    'QAStatistics': {}}},\n",
       "  {'ProductStatistics': {'ProductId': 'B00005929|3m-country-catalog|FUZEexperience|en_US',\n",
       "    'NativeReviewStatistics': {},\n",
       "    'ReviewStatistics': {'AverageOverallRating': None,\n",
       "     'TotalReviewCount': 0,\n",
       "     'OverallRatingRange': 5},\n",
       "    'QAStatistics': {}}},\n",
       "  {'ProductStatistics': {'ProductId': 'B40064987|3m-country-catalog|FUZEexperience|en_US',\n",
       "    'NativeReviewStatistics': {},\n",
       "    'ReviewStatistics': {'AverageOverallRating': None,\n",
       "     'TotalReviewCount': 0,\n",
       "     'OverallRatingRange': 5},\n",
       "    'QAStatistics': {}}},\n",
       "  {'ProductStatistics': {'ProductId': 'B40065050|3m-country-catalog|FUZEexperience|en_US',\n",
       "    'NativeReviewStatistics': {},\n",
       "    'ReviewStatistics': {'AverageOverallRating': None,\n",
       "     'TotalReviewCount': 0,\n",
       "     'OverallRatingRange': 5},\n",
       "    'QAStatistics': {}}},\n",
       "  {'ProductStatistics': {'ProductId': 'B40064879|3m-country-catalog|FUZEexperience|en_US',\n",
       "    'NativeReviewStatistics': {},\n",
       "    'ReviewStatistics': {'AverageOverallRating': 5.0,\n",
       "     'TotalReviewCount': 1,\n",
       "     'OverallRatingRange': 5},\n",
       "    'QAStatistics': {}}},\n",
       "  {'ProductStatistics': {'ProductId': 'B40071643|3m-country-catalog|FUZEexperience|en_US',\n",
       "    'NativeReviewStatistics': {},\n",
       "    'ReviewStatistics': {'AverageOverallRating': None,\n",
       "     'TotalReviewCount': 0,\n",
       "     'OverallRatingRange': 5},\n",
       "    'QAStatistics': {}}},\n",
       "  {'ProductStatistics': {'ProductId': 'B40064986|3m-country-catalog|FUZEexperience|en_US',\n",
       "    'NativeReviewStatistics': {},\n",
       "    'ReviewStatistics': {'AverageOverallRating': None,\n",
       "     'TotalReviewCount': 0,\n",
       "     'OverallRatingRange': 5},\n",
       "    'QAStatistics': {}}},\n",
       "  {'ProductStatistics': {'ProductId': '70009132088|3m-country-catalog|FUZEexperience|en_US',\n",
       "    'NativeReviewStatistics': {},\n",
       "    'ReviewStatistics': {'AverageOverallRating': None,\n",
       "     'TotalReviewCount': 0,\n",
       "     'OverallRatingRange': 5},\n",
       "    'QAStatistics': {}}},\n",
       "  {'ProductStatistics': {'ProductId': 'B40071624|3m-country-catalog|FUZEexperience|en_US',\n",
       "    'NativeReviewStatistics': {},\n",
       "    'ReviewStatistics': {'AverageOverallRating': None,\n",
       "     'TotalReviewCount': 0,\n",
       "     'OverallRatingRange': 5},\n",
       "    'QAStatistics': {}}},\n",
       "  {'ProductStatistics': {'ProductId': 'B40071216|3m-country-catalog|FUZEexperience|en_US',\n",
       "    'NativeReviewStatistics': {},\n",
       "    'ReviewStatistics': {'AverageOverallRating': None,\n",
       "     'TotalReviewCount': 0,\n",
       "     'OverallRatingRange': 5},\n",
       "    'QAStatistics': {}}},\n",
       "  {'ProductStatistics': {'ProductId': 'B40071254|3m-country-catalog|FUZEexperience|en_US',\n",
       "    'NativeReviewStatistics': {},\n",
       "    'ReviewStatistics': {'AverageOverallRating': None,\n",
       "     'TotalReviewCount': 0,\n",
       "     'OverallRatingRange': 5},\n",
       "    'QAStatistics': {}}},\n",
       "  {'ProductStatistics': {'ProductId': 'B40064887|3m-country-catalog|FUZEexperience|en_US',\n",
       "    'NativeReviewStatistics': {},\n",
       "    'ReviewStatistics': {'AverageOverallRating': None,\n",
       "     'TotalReviewCount': 0,\n",
       "     'OverallRatingRange': 5},\n",
       "    'QAStatistics': {}}},\n",
       "  {'ProductStatistics': {'ProductId': '70009132062|3m-country-catalog|FUZEexperience|en_US',\n",
       "    'NativeReviewStatistics': {},\n",
       "    'ReviewStatistics': {'AverageOverallRating': None,\n",
       "     'TotalReviewCount': 0,\n",
       "     'OverallRatingRange': 5},\n",
       "    'QAStatistics': {}}},\n",
       "  {'ProductStatistics': {'ProductId': 'B40064677|3m-country-catalog|FUZEexperience|en_US',\n",
       "    'NativeReviewStatistics': {},\n",
       "    'ReviewStatistics': {'AverageOverallRating': None,\n",
       "     'TotalReviewCount': 0,\n",
       "     'OverallRatingRange': 5},\n",
       "    'QAStatistics': {}}},\n",
       "  {'ProductStatistics': {'ProductId': 'B10009585|3m-country-catalog|FUZEexperience|en_US',\n",
       "    'NativeReviewStatistics': {},\n",
       "    'ReviewStatistics': {'AverageOverallRating': None,\n",
       "     'TotalReviewCount': 0,\n",
       "     'OverallRatingRange': 5},\n",
       "    'QAStatistics': {}}},\n",
       "  {'ProductStatistics': {'ProductId': 'B30022591|3m-country-catalog|FUZEexperience|en_US',\n",
       "    'NativeReviewStatistics': {},\n",
       "    'ReviewStatistics': {'AverageOverallRating': None,\n",
       "     'TotalReviewCount': 0,\n",
       "     'OverallRatingRange': 5},\n",
       "    'QAStatistics': {}}},\n",
       "  {'ProductStatistics': {'ProductId': '70009132096|3m-country-catalog|FUZEexperience|en_US',\n",
       "    'NativeReviewStatistics': {},\n",
       "    'ReviewStatistics': {'AverageOverallRating': None,\n",
       "     'TotalReviewCount': 0,\n",
       "     'OverallRatingRange': 5},\n",
       "    'QAStatistics': {}}},\n",
       "  {'ProductStatistics': {'ProductId': 'B00046193|3m-country-catalog|FUZEexperience|en_US',\n",
       "    'NativeReviewStatistics': {},\n",
       "    'ReviewStatistics': {'AverageOverallRating': None,\n",
       "     'TotalReviewCount': 0,\n",
       "     'OverallRatingRange': 5},\n",
       "    'QAStatistics': {}}}],\n",
       " 'Includes': {},\n",
       " 'HasErrors': False,\n",
       " 'Errors': []}"
      ]
     },
     "execution_count": 8,
     "metadata": {},
     "output_type": "execute_result"
    }
   ],
   "source": [
    "response.json()"
   ]
  },
  {
   "cell_type": "code",
   "execution_count": 9,
   "id": "9c4df4ec",
   "metadata": {},
   "outputs": [],
   "source": [
    "data_object=response.json()"
   ]
  },
  {
   "cell_type": "code",
   "execution_count": 10,
   "id": "fa1e44fd",
   "metadata": {},
   "outputs": [
    {
     "name": "stdout",
     "output_type": "stream",
     "text": [
      "<class 'dict'>\n"
     ]
    }
   ],
   "source": [
    "print(type(response.json()))"
   ]
  },
  {
   "cell_type": "code",
   "execution_count": 11,
   "id": "358480b0",
   "metadata": {},
   "outputs": [
    {
     "name": "stdout",
     "output_type": "stream",
     "text": [
      "dict_keys(['Limit', 'Offset', 'TotalResults', 'Locale', 'Results', 'Includes', 'HasErrors', 'Errors'])\n"
     ]
    }
   ],
   "source": [
    "print(data_object.keys())"
   ]
  },
  {
   "cell_type": "code",
   "execution_count": 12,
   "id": "eb9485e7",
   "metadata": {},
   "outputs": [
    {
     "name": "stdout",
     "output_type": "stream",
     "text": [
      "[{'ProductStatistics': {'ProductId': 'B10013703|3m-country-catalog|FUZEexperience|en_US', 'NativeReviewStatistics': {}, 'ReviewStatistics': {'AverageOverallRating': None, 'TotalReviewCount': 0, 'OverallRatingRange': 5}, 'QAStatistics': {}}}, {'ProductStatistics': {'ProductId': 'B40065310|3m-country-catalog|FUZEexperience|en_US', 'NativeReviewStatistics': {}, 'ReviewStatistics': {'AverageOverallRating': 5.0, 'TotalReviewCount': 2, 'OverallRatingRange': 5}, 'QAStatistics': {}}}, {'ProductStatistics': {'ProductId': 'B10013553|3m-country-catalog|FUZEexperience|en_US', 'NativeReviewStatistics': {}, 'ReviewStatistics': {'AverageOverallRating': None, 'TotalReviewCount': 0, 'OverallRatingRange': 5}, 'QAStatistics': {}}}, {'ProductStatistics': {'ProductId': '70009132070|3m-country-catalog|FUZEexperience|en_US', 'NativeReviewStatistics': {}, 'ReviewStatistics': {'AverageOverallRating': None, 'TotalReviewCount': 0, 'OverallRatingRange': 5}, 'QAStatistics': {}}}, {'ProductStatistics': {'ProductId': 'B40066301|3m-country-catalog|FUZEexperience|en_US', 'NativeReviewStatistics': {}, 'ReviewStatistics': {'AverageOverallRating': None, 'TotalReviewCount': 0, 'OverallRatingRange': 5}, 'QAStatistics': {}}}, {'ProductStatistics': {'ProductId': 'B40071422|3m-country-catalog|FUZEexperience|en_US', 'NativeReviewStatistics': {}, 'ReviewStatistics': {'AverageOverallRating': None, 'TotalReviewCount': 0, 'OverallRatingRange': 5}, 'QAStatistics': {}}}, {'ProductStatistics': {'ProductId': 'B10013704|3m-country-catalog|FUZEexperience|en_US', 'NativeReviewStatistics': {}, 'ReviewStatistics': {'AverageOverallRating': None, 'TotalReviewCount': 0, 'OverallRatingRange': 5}, 'QAStatistics': {}}}, {'ProductStatistics': {'ProductId': 'B40071928|3m-country-catalog|FUZEexperience|en_US', 'NativeReviewStatistics': {}, 'ReviewStatistics': {'AverageOverallRating': None, 'TotalReviewCount': 0, 'OverallRatingRange': 5}, 'QAStatistics': {}}}, {'ProductStatistics': {'ProductId': 'B40066087|3m-country-catalog|FUZEexperience|en_US', 'NativeReviewStatistics': {}, 'ReviewStatistics': {'AverageOverallRating': None, 'TotalReviewCount': 0, 'OverallRatingRange': 5}, 'QAStatistics': {}}}, {'ProductStatistics': {'ProductId': 'B40066581|3m-country-catalog|FUZEexperience|en_US', 'NativeReviewStatistics': {}, 'ReviewStatistics': {'AverageOverallRating': None, 'TotalReviewCount': 0, 'OverallRatingRange': 5}, 'QAStatistics': {}}}, {'ProductStatistics': {'ProductId': 'B00046164|3m-country-catalog|FUZEexperience|en_US', 'NativeReviewStatistics': {}, 'ReviewStatistics': {'AverageOverallRating': None, 'TotalReviewCount': 0, 'OverallRatingRange': 5}, 'QAStatistics': {}}}, {'ProductStatistics': {'ProductId': 'B40071656|3m-country-catalog|FUZEexperience|en_US', 'NativeReviewStatistics': {}, 'ReviewStatistics': {'AverageOverallRating': None, 'TotalReviewCount': 0, 'OverallRatingRange': 5}, 'QAStatistics': {}}}, {'ProductStatistics': {'ProductId': 'B40065389|3m-country-catalog|FUZEexperience|en_US', 'NativeReviewStatistics': {}, 'ReviewStatistics': {'AverageOverallRating': None, 'TotalReviewCount': 0, 'OverallRatingRange': 5}, 'QAStatistics': {}}}, {'ProductStatistics': {'ProductId': 'B40068714|3m-country-catalog|FUZEexperience|en_US', 'NativeReviewStatistics': {}, 'ReviewStatistics': {'AverageOverallRating': None, 'TotalReviewCount': 0, 'OverallRatingRange': 5}, 'QAStatistics': {}}}, {'ProductStatistics': {'ProductId': 'B40071161|3m-country-catalog|FUZEexperience|en_US', 'NativeReviewStatistics': {}, 'ReviewStatistics': {'AverageOverallRating': None, 'TotalReviewCount': 0, 'OverallRatingRange': 5}, 'QAStatistics': {}}}, {'ProductStatistics': {'ProductId': 'B40068733|3m-country-catalog|FUZEexperience|en_US', 'NativeReviewStatistics': {}, 'ReviewStatistics': {'AverageOverallRating': None, 'TotalReviewCount': 0, 'OverallRatingRange': 5}, 'QAStatistics': {}}}, {'ProductStatistics': {'ProductId': '70009132054|3m-country-catalog|FUZEexperience|en_US', 'NativeReviewStatistics': {}, 'ReviewStatistics': {'AverageOverallRating': None, 'TotalReviewCount': 0, 'OverallRatingRange': 5}, 'QAStatistics': {}}}, {'ProductStatistics': {'ProductId': 'B40064827|3m-country-catalog|FUZEexperience|en_US', 'NativeReviewStatistics': {}, 'ReviewStatistics': {'AverageOverallRating': None, 'TotalReviewCount': 0, 'OverallRatingRange': 5}, 'QAStatistics': {}}}, {'ProductStatistics': {'ProductId': 'B40071650|3m-country-catalog|FUZEexperience|en_US', 'NativeReviewStatistics': {}, 'ReviewStatistics': {'AverageOverallRating': None, 'TotalReviewCount': 0, 'OverallRatingRange': 5}, 'QAStatistics': {}}}, {'ProductStatistics': {'ProductId': 'B40065201|3m-country-catalog|FUZEexperience|en_US', 'NativeReviewStatistics': {}, 'ReviewStatistics': {'AverageOverallRating': None, 'TotalReviewCount': 0, 'OverallRatingRange': 5}, 'QAStatistics': {}}}, {'ProductStatistics': {'ProductId': 'B00005929|3m-country-catalog|FUZEexperience|en_US', 'NativeReviewStatistics': {}, 'ReviewStatistics': {'AverageOverallRating': None, 'TotalReviewCount': 0, 'OverallRatingRange': 5}, 'QAStatistics': {}}}, {'ProductStatistics': {'ProductId': 'B40064987|3m-country-catalog|FUZEexperience|en_US', 'NativeReviewStatistics': {}, 'ReviewStatistics': {'AverageOverallRating': None, 'TotalReviewCount': 0, 'OverallRatingRange': 5}, 'QAStatistics': {}}}, {'ProductStatistics': {'ProductId': 'B40065050|3m-country-catalog|FUZEexperience|en_US', 'NativeReviewStatistics': {}, 'ReviewStatistics': {'AverageOverallRating': None, 'TotalReviewCount': 0, 'OverallRatingRange': 5}, 'QAStatistics': {}}}, {'ProductStatistics': {'ProductId': 'B40064879|3m-country-catalog|FUZEexperience|en_US', 'NativeReviewStatistics': {}, 'ReviewStatistics': {'AverageOverallRating': 5.0, 'TotalReviewCount': 1, 'OverallRatingRange': 5}, 'QAStatistics': {}}}, {'ProductStatistics': {'ProductId': 'B40071643|3m-country-catalog|FUZEexperience|en_US', 'NativeReviewStatistics': {}, 'ReviewStatistics': {'AverageOverallRating': None, 'TotalReviewCount': 0, 'OverallRatingRange': 5}, 'QAStatistics': {}}}, {'ProductStatistics': {'ProductId': 'B40064986|3m-country-catalog|FUZEexperience|en_US', 'NativeReviewStatistics': {}, 'ReviewStatistics': {'AverageOverallRating': None, 'TotalReviewCount': 0, 'OverallRatingRange': 5}, 'QAStatistics': {}}}, {'ProductStatistics': {'ProductId': '70009132088|3m-country-catalog|FUZEexperience|en_US', 'NativeReviewStatistics': {}, 'ReviewStatistics': {'AverageOverallRating': None, 'TotalReviewCount': 0, 'OverallRatingRange': 5}, 'QAStatistics': {}}}, {'ProductStatistics': {'ProductId': 'B40071624|3m-country-catalog|FUZEexperience|en_US', 'NativeReviewStatistics': {}, 'ReviewStatistics': {'AverageOverallRating': None, 'TotalReviewCount': 0, 'OverallRatingRange': 5}, 'QAStatistics': {}}}, {'ProductStatistics': {'ProductId': 'B40071216|3m-country-catalog|FUZEexperience|en_US', 'NativeReviewStatistics': {}, 'ReviewStatistics': {'AverageOverallRating': None, 'TotalReviewCount': 0, 'OverallRatingRange': 5}, 'QAStatistics': {}}}, {'ProductStatistics': {'ProductId': 'B40071254|3m-country-catalog|FUZEexperience|en_US', 'NativeReviewStatistics': {}, 'ReviewStatistics': {'AverageOverallRating': None, 'TotalReviewCount': 0, 'OverallRatingRange': 5}, 'QAStatistics': {}}}, {'ProductStatistics': {'ProductId': 'B40064887|3m-country-catalog|FUZEexperience|en_US', 'NativeReviewStatistics': {}, 'ReviewStatistics': {'AverageOverallRating': None, 'TotalReviewCount': 0, 'OverallRatingRange': 5}, 'QAStatistics': {}}}, {'ProductStatistics': {'ProductId': '70009132062|3m-country-catalog|FUZEexperience|en_US', 'NativeReviewStatistics': {}, 'ReviewStatistics': {'AverageOverallRating': None, 'TotalReviewCount': 0, 'OverallRatingRange': 5}, 'QAStatistics': {}}}, {'ProductStatistics': {'ProductId': 'B40064677|3m-country-catalog|FUZEexperience|en_US', 'NativeReviewStatistics': {}, 'ReviewStatistics': {'AverageOverallRating': None, 'TotalReviewCount': 0, 'OverallRatingRange': 5}, 'QAStatistics': {}}}, {'ProductStatistics': {'ProductId': 'B10009585|3m-country-catalog|FUZEexperience|en_US', 'NativeReviewStatistics': {}, 'ReviewStatistics': {'AverageOverallRating': None, 'TotalReviewCount': 0, 'OverallRatingRange': 5}, 'QAStatistics': {}}}, {'ProductStatistics': {'ProductId': 'B30022591|3m-country-catalog|FUZEexperience|en_US', 'NativeReviewStatistics': {}, 'ReviewStatistics': {'AverageOverallRating': None, 'TotalReviewCount': 0, 'OverallRatingRange': 5}, 'QAStatistics': {}}}, {'ProductStatistics': {'ProductId': '70009132096|3m-country-catalog|FUZEexperience|en_US', 'NativeReviewStatistics': {}, 'ReviewStatistics': {'AverageOverallRating': None, 'TotalReviewCount': 0, 'OverallRatingRange': 5}, 'QAStatistics': {}}}, {'ProductStatistics': {'ProductId': 'B00046193|3m-country-catalog|FUZEexperience|en_US', 'NativeReviewStatistics': {}, 'ReviewStatistics': {'AverageOverallRating': None, 'TotalReviewCount': 0, 'OverallRatingRange': 5}, 'QAStatistics': {}}}]\n"
     ]
    }
   ],
   "source": [
    "print(data_object.get('Results'))"
   ]
  },
  {
   "cell_type": "code",
   "execution_count": 16,
   "id": "9e1340b7",
   "metadata": {},
   "outputs": [
    {
     "name": "stdout",
     "output_type": "stream",
     "text": [
      "dict_values([37, 0, 37, 'en_US', [{'ProductStatistics': {'ProductId': 'B10013703|3m-country-catalog|FUZEexperience|en_US', 'NativeReviewStatistics': {}, 'ReviewStatistics': {'AverageOverallRating': None, 'TotalReviewCount': 0, 'OverallRatingRange': 5}, 'QAStatistics': {}}}, {'ProductStatistics': {'ProductId': 'B40065310|3m-country-catalog|FUZEexperience|en_US', 'NativeReviewStatistics': {}, 'ReviewStatistics': {'AverageOverallRating': 5.0, 'TotalReviewCount': 2, 'OverallRatingRange': 5}, 'QAStatistics': {}}}, {'ProductStatistics': {'ProductId': 'B10013553|3m-country-catalog|FUZEexperience|en_US', 'NativeReviewStatistics': {}, 'ReviewStatistics': {'AverageOverallRating': None, 'TotalReviewCount': 0, 'OverallRatingRange': 5}, 'QAStatistics': {}}}, {'ProductStatistics': {'ProductId': '70009132070|3m-country-catalog|FUZEexperience|en_US', 'NativeReviewStatistics': {}, 'ReviewStatistics': {'AverageOverallRating': None, 'TotalReviewCount': 0, 'OverallRatingRange': 5}, 'QAStatistics': {}}}, {'ProductStatistics': {'ProductId': 'B40066301|3m-country-catalog|FUZEexperience|en_US', 'NativeReviewStatistics': {}, 'ReviewStatistics': {'AverageOverallRating': None, 'TotalReviewCount': 0, 'OverallRatingRange': 5}, 'QAStatistics': {}}}, {'ProductStatistics': {'ProductId': 'B40071422|3m-country-catalog|FUZEexperience|en_US', 'NativeReviewStatistics': {}, 'ReviewStatistics': {'AverageOverallRating': None, 'TotalReviewCount': 0, 'OverallRatingRange': 5}, 'QAStatistics': {}}}, {'ProductStatistics': {'ProductId': 'B10013704|3m-country-catalog|FUZEexperience|en_US', 'NativeReviewStatistics': {}, 'ReviewStatistics': {'AverageOverallRating': None, 'TotalReviewCount': 0, 'OverallRatingRange': 5}, 'QAStatistics': {}}}, {'ProductStatistics': {'ProductId': 'B40071928|3m-country-catalog|FUZEexperience|en_US', 'NativeReviewStatistics': {}, 'ReviewStatistics': {'AverageOverallRating': None, 'TotalReviewCount': 0, 'OverallRatingRange': 5}, 'QAStatistics': {}}}, {'ProductStatistics': {'ProductId': 'B40066087|3m-country-catalog|FUZEexperience|en_US', 'NativeReviewStatistics': {}, 'ReviewStatistics': {'AverageOverallRating': None, 'TotalReviewCount': 0, 'OverallRatingRange': 5}, 'QAStatistics': {}}}, {'ProductStatistics': {'ProductId': 'B40066581|3m-country-catalog|FUZEexperience|en_US', 'NativeReviewStatistics': {}, 'ReviewStatistics': {'AverageOverallRating': None, 'TotalReviewCount': 0, 'OverallRatingRange': 5}, 'QAStatistics': {}}}, {'ProductStatistics': {'ProductId': 'B00046164|3m-country-catalog|FUZEexperience|en_US', 'NativeReviewStatistics': {}, 'ReviewStatistics': {'AverageOverallRating': None, 'TotalReviewCount': 0, 'OverallRatingRange': 5}, 'QAStatistics': {}}}, {'ProductStatistics': {'ProductId': 'B40071656|3m-country-catalog|FUZEexperience|en_US', 'NativeReviewStatistics': {}, 'ReviewStatistics': {'AverageOverallRating': None, 'TotalReviewCount': 0, 'OverallRatingRange': 5}, 'QAStatistics': {}}}, {'ProductStatistics': {'ProductId': 'B40065389|3m-country-catalog|FUZEexperience|en_US', 'NativeReviewStatistics': {}, 'ReviewStatistics': {'AverageOverallRating': None, 'TotalReviewCount': 0, 'OverallRatingRange': 5}, 'QAStatistics': {}}}, {'ProductStatistics': {'ProductId': 'B40068714|3m-country-catalog|FUZEexperience|en_US', 'NativeReviewStatistics': {}, 'ReviewStatistics': {'AverageOverallRating': None, 'TotalReviewCount': 0, 'OverallRatingRange': 5}, 'QAStatistics': {}}}, {'ProductStatistics': {'ProductId': 'B40071161|3m-country-catalog|FUZEexperience|en_US', 'NativeReviewStatistics': {}, 'ReviewStatistics': {'AverageOverallRating': None, 'TotalReviewCount': 0, 'OverallRatingRange': 5}, 'QAStatistics': {}}}, {'ProductStatistics': {'ProductId': 'B40068733|3m-country-catalog|FUZEexperience|en_US', 'NativeReviewStatistics': {}, 'ReviewStatistics': {'AverageOverallRating': None, 'TotalReviewCount': 0, 'OverallRatingRange': 5}, 'QAStatistics': {}}}, {'ProductStatistics': {'ProductId': '70009132054|3m-country-catalog|FUZEexperience|en_US', 'NativeReviewStatistics': {}, 'ReviewStatistics': {'AverageOverallRating': None, 'TotalReviewCount': 0, 'OverallRatingRange': 5}, 'QAStatistics': {}}}, {'ProductStatistics': {'ProductId': 'B40064827|3m-country-catalog|FUZEexperience|en_US', 'NativeReviewStatistics': {}, 'ReviewStatistics': {'AverageOverallRating': None, 'TotalReviewCount': 0, 'OverallRatingRange': 5}, 'QAStatistics': {}}}, {'ProductStatistics': {'ProductId': 'B40071650|3m-country-catalog|FUZEexperience|en_US', 'NativeReviewStatistics': {}, 'ReviewStatistics': {'AverageOverallRating': None, 'TotalReviewCount': 0, 'OverallRatingRange': 5}, 'QAStatistics': {}}}, {'ProductStatistics': {'ProductId': 'B40065201|3m-country-catalog|FUZEexperience|en_US', 'NativeReviewStatistics': {}, 'ReviewStatistics': {'AverageOverallRating': None, 'TotalReviewCount': 0, 'OverallRatingRange': 5}, 'QAStatistics': {}}}, {'ProductStatistics': {'ProductId': 'B00005929|3m-country-catalog|FUZEexperience|en_US', 'NativeReviewStatistics': {}, 'ReviewStatistics': {'AverageOverallRating': None, 'TotalReviewCount': 0, 'OverallRatingRange': 5}, 'QAStatistics': {}}}, {'ProductStatistics': {'ProductId': 'B40064987|3m-country-catalog|FUZEexperience|en_US', 'NativeReviewStatistics': {}, 'ReviewStatistics': {'AverageOverallRating': None, 'TotalReviewCount': 0, 'OverallRatingRange': 5}, 'QAStatistics': {}}}, {'ProductStatistics': {'ProductId': 'B40065050|3m-country-catalog|FUZEexperience|en_US', 'NativeReviewStatistics': {}, 'ReviewStatistics': {'AverageOverallRating': None, 'TotalReviewCount': 0, 'OverallRatingRange': 5}, 'QAStatistics': {}}}, {'ProductStatistics': {'ProductId': 'B40064879|3m-country-catalog|FUZEexperience|en_US', 'NativeReviewStatistics': {}, 'ReviewStatistics': {'AverageOverallRating': 5.0, 'TotalReviewCount': 1, 'OverallRatingRange': 5}, 'QAStatistics': {}}}, {'ProductStatistics': {'ProductId': 'B40071643|3m-country-catalog|FUZEexperience|en_US', 'NativeReviewStatistics': {}, 'ReviewStatistics': {'AverageOverallRating': None, 'TotalReviewCount': 0, 'OverallRatingRange': 5}, 'QAStatistics': {}}}, {'ProductStatistics': {'ProductId': 'B40064986|3m-country-catalog|FUZEexperience|en_US', 'NativeReviewStatistics': {}, 'ReviewStatistics': {'AverageOverallRating': None, 'TotalReviewCount': 0, 'OverallRatingRange': 5}, 'QAStatistics': {}}}, {'ProductStatistics': {'ProductId': '70009132088|3m-country-catalog|FUZEexperience|en_US', 'NativeReviewStatistics': {}, 'ReviewStatistics': {'AverageOverallRating': None, 'TotalReviewCount': 0, 'OverallRatingRange': 5}, 'QAStatistics': {}}}, {'ProductStatistics': {'ProductId': 'B40071624|3m-country-catalog|FUZEexperience|en_US', 'NativeReviewStatistics': {}, 'ReviewStatistics': {'AverageOverallRating': None, 'TotalReviewCount': 0, 'OverallRatingRange': 5}, 'QAStatistics': {}}}, {'ProductStatistics': {'ProductId': 'B40071216|3m-country-catalog|FUZEexperience|en_US', 'NativeReviewStatistics': {}, 'ReviewStatistics': {'AverageOverallRating': None, 'TotalReviewCount': 0, 'OverallRatingRange': 5}, 'QAStatistics': {}}}, {'ProductStatistics': {'ProductId': 'B40071254|3m-country-catalog|FUZEexperience|en_US', 'NativeReviewStatistics': {}, 'ReviewStatistics': {'AverageOverallRating': None, 'TotalReviewCount': 0, 'OverallRatingRange': 5}, 'QAStatistics': {}}}, {'ProductStatistics': {'ProductId': 'B40064887|3m-country-catalog|FUZEexperience|en_US', 'NativeReviewStatistics': {}, 'ReviewStatistics': {'AverageOverallRating': None, 'TotalReviewCount': 0, 'OverallRatingRange': 5}, 'QAStatistics': {}}}, {'ProductStatistics': {'ProductId': '70009132062|3m-country-catalog|FUZEexperience|en_US', 'NativeReviewStatistics': {}, 'ReviewStatistics': {'AverageOverallRating': None, 'TotalReviewCount': 0, 'OverallRatingRange': 5}, 'QAStatistics': {}}}, {'ProductStatistics': {'ProductId': 'B40064677|3m-country-catalog|FUZEexperience|en_US', 'NativeReviewStatistics': {}, 'ReviewStatistics': {'AverageOverallRating': None, 'TotalReviewCount': 0, 'OverallRatingRange': 5}, 'QAStatistics': {}}}, {'ProductStatistics': {'ProductId': 'B10009585|3m-country-catalog|FUZEexperience|en_US', 'NativeReviewStatistics': {}, 'ReviewStatistics': {'AverageOverallRating': None, 'TotalReviewCount': 0, 'OverallRatingRange': 5}, 'QAStatistics': {}}}, {'ProductStatistics': {'ProductId': 'B30022591|3m-country-catalog|FUZEexperience|en_US', 'NativeReviewStatistics': {}, 'ReviewStatistics': {'AverageOverallRating': None, 'TotalReviewCount': 0, 'OverallRatingRange': 5}, 'QAStatistics': {}}}, {'ProductStatistics': {'ProductId': '70009132096|3m-country-catalog|FUZEexperience|en_US', 'NativeReviewStatistics': {}, 'ReviewStatistics': {'AverageOverallRating': None, 'TotalReviewCount': 0, 'OverallRatingRange': 5}, 'QAStatistics': {}}}, {'ProductStatistics': {'ProductId': 'B00046193|3m-country-catalog|FUZEexperience|en_US', 'NativeReviewStatistics': {}, 'ReviewStatistics': {'AverageOverallRating': None, 'TotalReviewCount': 0, 'OverallRatingRange': 5}, 'QAStatistics': {}}}], {}, False, []])\n"
     ]
    }
   ],
   "source": [
    "print(data_object.values())"
   ]
  },
  {
   "cell_type": "code",
   "execution_count": 19,
   "id": "af4d3abd",
   "metadata": {},
   "outputs": [
    {
     "name": "stdout",
     "output_type": "stream",
     "text": [
      "None\n"
     ]
    }
   ],
   "source": [
    "print(data_object.get('Results'))"
   ]
  },
  {
   "cell_type": "code",
   "execution_count": null,
   "id": "e6db9eba",
   "metadata": {},
   "outputs": [],
   "source": []
  }
 ],
 "metadata": {
  "kernelspec": {
   "display_name": "Python 3 (ipykernel)",
   "language": "python",
   "name": "python3"
  },
  "language_info": {
   "codemirror_mode": {
    "name": "ipython",
    "version": 3
   },
   "file_extension": ".py",
   "mimetype": "text/x-python",
   "name": "python",
   "nbconvert_exporter": "python",
   "pygments_lexer": "ipython3",
   "version": "3.10.9"
  }
 },
 "nbformat": 4,
 "nbformat_minor": 5
}
